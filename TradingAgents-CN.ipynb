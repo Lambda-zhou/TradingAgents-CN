#  拉取代码库与安装依赖
!git clone https://github.com/hsliuping/TradingAgents-CN.git
%cd TradingAgents-CN
%cp .env.example .env
!conda create -n MoneyPrinterTurbo python=3.11
!conda activate MoneyPrinterTurbo
!pip install -r requirements.txt
!pip install streamlit


# 若想修改端口：打开run_web.py文件 修改端口8080、serverAddress为0.0.0.0
!python web/run_web.py 